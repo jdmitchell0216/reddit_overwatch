{
 "cells": [
  {
   "cell_type": "markdown",
   "metadata": {},
   "source": [
    "# Reddit API"
   ]
  },
  {
   "cell_type": "code",
   "execution_count": 1,
   "metadata": {},
   "outputs": [],
   "source": [
    "%load_ext dotenv\n",
    "%dotenv"
   ]
  },
  {
   "cell_type": "code",
   "execution_count": 2,
   "metadata": {},
   "outputs": [],
   "source": [
    "import praw # reddit API wrapper\n",
    "import re\n",
    "import numpy as np\n",
    "import pandas as pd\n",
    "import os\n",
    "import matplotlib.pyplot as plt"
   ]
  },
  {
   "cell_type": "code",
   "execution_count": 3,
   "metadata": {},
   "outputs": [],
   "source": [
    "reddit = praw.Reddit(client_id=os.environ.get('REDDIT_CLIENT_ID'),\n",
    "                     client_secret=os.environ.get('REDDIT_CLIENT_SECRET'),\n",
    "                     user_agent=os.environ.get('REDDIT_USER_AGENT'))"
   ]
  },
  {
   "cell_type": "code",
   "execution_count": 149,
   "metadata": {},
   "outputs": [],
   "source": [
    "def users_from_post(post):\n",
    "    '''\n",
    "    Given a post, return all users that participate (through commenting or posting)\n",
    "    Input: post\n",
    "    Output: set(users)\n",
    "    '''\n",
    "    users = set()\n",
    "    users.add(post.author.name)\n",
    "    post.comments.replace_more(limit=None)\n",
    "    for comment in post.comments.list():\n",
    "        if comment.author:\n",
    "            users.add(comment.author.name)\n",
    "    return users"
   ]
  },
  {
   "cell_type": "code",
   "execution_count": 134,
   "metadata": {},
   "outputs": [],
   "source": [
    "def recent_users(sub, limit=None):\n",
    "    '''\n",
    "    Given a subreddit, return all users who recently participated (through commenting or posting)\n",
    "    Input: subreddit name\n",
    "    Output: set(users)\n",
    "    '''\n",
    "    users = set()\n",
    "    for post in reddit.subreddit(sub).new(limit=None):\n",
    "        try:\n",
    "            test = users_from_post(post)\n",
    "            users = users.union(test)\n",
    "        except Exception as e:\n",
    "            print(e, post.url)\n",
    "    return users"
   ]
  },
  {
   "cell_type": "code",
   "execution_count": 165,
   "metadata": {},
   "outputs": [],
   "source": [
    "def recent_subreddits(user):\n",
    "    '''\n",
    "    Given a reddit username, return subreddits they have been active in recently.\n",
    "    Input: Reddit username\n",
    "    Output: list of dicts [{user, subreddit, timestamp}]\n",
    "    '''\n",
    "    sub_activity = []\n",
    "    for comment in reddit.redditor(user).comments.new(limit=None):\n",
    "        sub = comment.subreddit.display_name\n",
    "        time = comment.created_utc\n",
    "        sub_activity.append({'user':user,\n",
    "                             'subreddit':sub,\n",
    "                             'created_at':time})\n",
    "    return sub_activity"
   ]
  },
  {
   "cell_type": "code",
   "execution_count": 152,
   "metadata": {
    "scrolled": true
   },
   "outputs": [],
   "source": [
    "users_co = recent_users('competitiveoverwatch')"
   ]
  },
  {
   "cell_type": "code",
   "execution_count": 166,
   "metadata": {},
   "outputs": [
    {
     "data": {
      "text/plain": [
       "7923"
      ]
     },
     "execution_count": 166,
     "metadata": {},
     "output_type": "execute_result"
    }
   ],
   "source": [
    "len(users_co)"
   ]
  },
  {
   "cell_type": "code",
   "execution_count": null,
   "metadata": {},
   "outputs": [],
   "source": []
  }
 ],
 "metadata": {
  "kernelspec": {
   "display_name": "base",
   "language": "python",
   "name": "base"
  },
  "language_info": {
   "codemirror_mode": {
    "name": "ipython",
    "version": 3
   },
   "file_extension": ".py",
   "mimetype": "text/x-python",
   "name": "python",
   "nbconvert_exporter": "python",
   "pygments_lexer": "ipython3",
   "version": "3.7.1"
  },
  "varInspector": {
   "cols": {
    "lenName": 16,
    "lenType": 16,
    "lenVar": 40
   },
   "kernels_config": {
    "python": {
     "delete_cmd_postfix": "",
     "delete_cmd_prefix": "del ",
     "library": "var_list.py",
     "varRefreshCmd": "print(var_dic_list())"
    },
    "r": {
     "delete_cmd_postfix": ") ",
     "delete_cmd_prefix": "rm(",
     "library": "var_list.r",
     "varRefreshCmd": "cat(var_dic_list()) "
    }
   },
   "types_to_exclude": [
    "module",
    "function",
    "builtin_function_or_method",
    "instance",
    "_Feature"
   ],
   "window_display": false
  }
 },
 "nbformat": 4,
 "nbformat_minor": 2
}
