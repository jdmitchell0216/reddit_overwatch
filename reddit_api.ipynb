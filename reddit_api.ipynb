{
 "cells": [
  {
   "cell_type": "markdown",
   "metadata": {},
   "source": [
    "# Reddit API"
   ]
  },
  {
   "cell_type": "code",
   "execution_count": 1,
   "metadata": {},
   "outputs": [],
   "source": [
    "%load_ext dotenv\n",
    "%dotenv"
   ]
  },
  {
   "cell_type": "code",
   "execution_count": 2,
   "metadata": {},
   "outputs": [],
   "source": [
    "import praw # reddit API wrapper\n",
    "import re\n",
    "import numpy as np\n",
    "import pandas as pd\n",
    "import os\n",
    "import matplotlib.pyplot as plt\n",
    "from datetime import datetime"
   ]
  },
  {
   "cell_type": "code",
   "execution_count": 3,
   "metadata": {},
   "outputs": [],
   "source": [
    "reddit = praw.Reddit(client_id=os.environ.get('REDDIT_CLIENT_ID'),\n",
    "                     client_secret=os.environ.get('REDDIT_CLIENT_SECRET'),\n",
    "                     user_agent=os.environ.get('REDDIT_USER_AGENT'))"
   ]
  },
  {
   "cell_type": "code",
   "execution_count": 149,
   "metadata": {},
   "outputs": [],
   "source": [
    "def users_from_post(post):\n",
    "    '''\n",
    "    Given a post, return all users that participate (through commenting or posting)\n",
    "    Input: post\n",
    "    Output: set(users)\n",
    "    '''\n",
    "    users = set()\n",
    "    users.add(post.author.name)\n",
    "    post.comments.replace_more(limit=None)\n",
    "    for comment in post.comments.list():\n",
    "        if comment.author:\n",
    "            users.add(comment.author.name)\n",
    "    return users"
   ]
  },
  {
   "cell_type": "code",
   "execution_count": 134,
   "metadata": {},
   "outputs": [],
   "source": [
    "def recent_users(sub, limit=None):\n",
    "    '''\n",
    "    Given a subreddit, return all users who recently participated (through commenting or posting)\n",
    "    Input: subreddit name\n",
    "    Output: set(users)\n",
    "    '''\n",
    "    users = set()\n",
    "    for post in reddit.subreddit(sub).new(limit=None):\n",
    "        try:\n",
    "            test = users_from_post(post)\n",
    "            users = users.union(test)\n",
    "        except Exception as e:\n",
    "            print(e, post.url)\n",
    "    return users"
   ]
  },
  {
   "cell_type": "code",
   "execution_count": 187,
   "metadata": {},
   "outputs": [],
   "source": [
    "def recent_subreddits(user):\n",
    "    '''\n",
    "    Given a reddit username, return subreddits they have been active in recently.\n",
    "    Input: Reddit username\n",
    "    Output: list of dicts [{user, subreddit, timestamp}]\n",
    "    '''\n",
    "    sub_activity = []\n",
    "    for comment in reddit.redditor(user).comments.new(limit=None):\n",
    "        sub = comment.subreddit.display_name\n",
    "        time = comment.created_utc\n",
    "        sub_activity.append({'user':user,\n",
    "                             'subreddit':sub,\n",
    "                             'created_at':datetime.utcfromtimestamp(time).strftime('%Y-%m-%d %H:%M:%S')})\n",
    "    return sub_activity"
   ]
  },
  {
   "cell_type": "code",
   "execution_count": 152,
   "metadata": {
    "scrolled": true
   },
   "outputs": [],
   "source": [
    "users_co = recent_users('competitiveoverwatch')"
   ]
  },
  {
   "cell_type": "code",
   "execution_count": 136,
   "metadata": {},
   "outputs": [
    {
     "data": {
      "text/plain": [
       "4162"
      ]
     },
     "execution_count": 136,
     "metadata": {},
     "output_type": "execute_result"
    }
   ],
   "source": [
    "len(users)"
   ]
  },
  {
   "cell_type": "code",
   "execution_count": 166,
   "metadata": {},
   "outputs": [
    {
     "data": {
      "text/plain": [
       "7923"
      ]
     },
     "execution_count": 166,
     "metadata": {},
     "output_type": "execute_result"
    }
   ],
   "source": [
    "len(users_co)"
   ]
  },
  {
   "cell_type": "code",
   "execution_count": 188,
   "metadata": {},
   "outputs": [],
   "source": [
    "data = recent_subreddits('RangerFM')"
   ]
  },
  {
   "cell_type": "code",
   "execution_count": 190,
   "metadata": {},
   "outputs": [
    {
     "data": {
      "text/html": [
       "<div>\n",
       "<style scoped>\n",
       "    .dataframe tbody tr th:only-of-type {\n",
       "        vertical-align: middle;\n",
       "    }\n",
       "\n",
       "    .dataframe tbody tr th {\n",
       "        vertical-align: top;\n",
       "    }\n",
       "\n",
       "    .dataframe thead th {\n",
       "        text-align: right;\n",
       "    }\n",
       "</style>\n",
       "<table border=\"1\" class=\"dataframe\">\n",
       "  <thead>\n",
       "    <tr style=\"text-align: right;\">\n",
       "      <th></th>\n",
       "      <th>created_at</th>\n",
       "      <th>subreddit</th>\n",
       "      <th>user</th>\n",
       "    </tr>\n",
       "  </thead>\n",
       "  <tbody>\n",
       "    <tr>\n",
       "      <th>0</th>\n",
       "      <td>2019-11-07 20:52:55</td>\n",
       "      <td>Competitiveoverwatch</td>\n",
       "      <td>RangerFM</td>\n",
       "    </tr>\n",
       "    <tr>\n",
       "      <th>1</th>\n",
       "      <td>2019-11-05 13:51:12</td>\n",
       "      <td>guitars</td>\n",
       "      <td>RangerFM</td>\n",
       "    </tr>\n",
       "    <tr>\n",
       "      <th>2</th>\n",
       "      <td>2019-11-04 17:24:52</td>\n",
       "      <td>Bluegrass</td>\n",
       "      <td>RangerFM</td>\n",
       "    </tr>\n",
       "    <tr>\n",
       "      <th>3</th>\n",
       "      <td>2019-10-30 00:42:12</td>\n",
       "      <td>asheville</td>\n",
       "      <td>RangerFM</td>\n",
       "    </tr>\n",
       "    <tr>\n",
       "      <th>4</th>\n",
       "      <td>2019-10-24 12:45:18</td>\n",
       "      <td>Competitiveoverwatch</td>\n",
       "      <td>RangerFM</td>\n",
       "    </tr>\n",
       "    <tr>\n",
       "      <th>5</th>\n",
       "      <td>2019-10-23 19:45:58</td>\n",
       "      <td>Competitiveoverwatch</td>\n",
       "      <td>RangerFM</td>\n",
       "    </tr>\n",
       "    <tr>\n",
       "      <th>6</th>\n",
       "      <td>2019-10-23 19:07:14</td>\n",
       "      <td>Competitiveoverwatch</td>\n",
       "      <td>RangerFM</td>\n",
       "    </tr>\n",
       "    <tr>\n",
       "      <th>7</th>\n",
       "      <td>2019-10-23 17:39:06</td>\n",
       "      <td>Competitiveoverwatch</td>\n",
       "      <td>RangerFM</td>\n",
       "    </tr>\n",
       "    <tr>\n",
       "      <th>8</th>\n",
       "      <td>2019-10-23 16:53:17</td>\n",
       "      <td>RepTime</td>\n",
       "      <td>RangerFM</td>\n",
       "    </tr>\n",
       "    <tr>\n",
       "      <th>9</th>\n",
       "      <td>2019-10-21 17:12:59</td>\n",
       "      <td>Bluegrass</td>\n",
       "      <td>RangerFM</td>\n",
       "    </tr>\n",
       "    <tr>\n",
       "      <th>10</th>\n",
       "      <td>2019-10-21 16:36:23</td>\n",
       "      <td>Bluegrass</td>\n",
       "      <td>RangerFM</td>\n",
       "    </tr>\n",
       "    <tr>\n",
       "      <th>11</th>\n",
       "      <td>2019-10-10 03:08:04</td>\n",
       "      <td>FIFA</td>\n",
       "      <td>RangerFM</td>\n",
       "    </tr>\n",
       "    <tr>\n",
       "      <th>12</th>\n",
       "      <td>2019-10-10 02:40:34</td>\n",
       "      <td>FIFA</td>\n",
       "      <td>RangerFM</td>\n",
       "    </tr>\n",
       "    <tr>\n",
       "      <th>13</th>\n",
       "      <td>2019-10-08 14:25:19</td>\n",
       "      <td>Bluegrass</td>\n",
       "      <td>RangerFM</td>\n",
       "    </tr>\n",
       "    <tr>\n",
       "      <th>14</th>\n",
       "      <td>2019-10-08 14:23:03</td>\n",
       "      <td>Bluegrass</td>\n",
       "      <td>RangerFM</td>\n",
       "    </tr>\n",
       "    <tr>\n",
       "      <th>15</th>\n",
       "      <td>2019-10-08 00:28:28</td>\n",
       "      <td>Bluegrass</td>\n",
       "      <td>RangerFM</td>\n",
       "    </tr>\n",
       "    <tr>\n",
       "      <th>16</th>\n",
       "      <td>2019-10-08 00:25:11</td>\n",
       "      <td>Bluegrass</td>\n",
       "      <td>RangerFM</td>\n",
       "    </tr>\n",
       "  </tbody>\n",
       "</table>\n",
       "</div>"
      ],
      "text/plain": [
       "             created_at             subreddit      user\n",
       "0   2019-11-07 20:52:55  Competitiveoverwatch  RangerFM\n",
       "1   2019-11-05 13:51:12               guitars  RangerFM\n",
       "2   2019-11-04 17:24:52             Bluegrass  RangerFM\n",
       "3   2019-10-30 00:42:12             asheville  RangerFM\n",
       "4   2019-10-24 12:45:18  Competitiveoverwatch  RangerFM\n",
       "5   2019-10-23 19:45:58  Competitiveoverwatch  RangerFM\n",
       "6   2019-10-23 19:07:14  Competitiveoverwatch  RangerFM\n",
       "7   2019-10-23 17:39:06  Competitiveoverwatch  RangerFM\n",
       "8   2019-10-23 16:53:17               RepTime  RangerFM\n",
       "9   2019-10-21 17:12:59             Bluegrass  RangerFM\n",
       "10  2019-10-21 16:36:23             Bluegrass  RangerFM\n",
       "11  2019-10-10 03:08:04                  FIFA  RangerFM\n",
       "12  2019-10-10 02:40:34                  FIFA  RangerFM\n",
       "13  2019-10-08 14:25:19             Bluegrass  RangerFM\n",
       "14  2019-10-08 14:23:03             Bluegrass  RangerFM\n",
       "15  2019-10-08 00:28:28             Bluegrass  RangerFM\n",
       "16  2019-10-08 00:25:11             Bluegrass  RangerFM"
      ]
     },
     "execution_count": 190,
     "metadata": {},
     "output_type": "execute_result"
    }
   ],
   "source": [
    "pd.DataFrame(data)"
   ]
  }
 ],
 "metadata": {
  "kernelspec": {
   "display_name": "base",
   "language": "python",
   "name": "base"
  },
  "language_info": {
   "codemirror_mode": {
    "name": "ipython",
    "version": 3
   },
   "file_extension": ".py",
   "mimetype": "text/x-python",
   "name": "python",
   "nbconvert_exporter": "python",
   "pygments_lexer": "ipython3",
   "version": "3.7.1"
  },
  "varInspector": {
   "cols": {
    "lenName": 16,
    "lenType": 16,
    "lenVar": 40
   },
   "kernels_config": {
    "python": {
     "delete_cmd_postfix": "",
     "delete_cmd_prefix": "del ",
     "library": "var_list.py",
     "varRefreshCmd": "print(var_dic_list())"
    },
    "r": {
     "delete_cmd_postfix": ") ",
     "delete_cmd_prefix": "rm(",
     "library": "var_list.r",
     "varRefreshCmd": "cat(var_dic_list()) "
    }
   },
   "types_to_exclude": [
    "module",
    "function",
    "builtin_function_or_method",
    "instance",
    "_Feature"
   ],
   "window_display": false
  }
 },
 "nbformat": 4,
 "nbformat_minor": 2
}
